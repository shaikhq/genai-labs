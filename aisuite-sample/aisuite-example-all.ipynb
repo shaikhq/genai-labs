{
 "cells": [
  {
   "cell_type": "code",
   "execution_count": null,
   "id": "dcbddb5f",
   "metadata": {},
   "outputs": [],
   "source": [
    "from dotenv import load_dotenv\n",
    "import os\n",
    "import aisuite as ai"
   ]
  },
  {
   "cell_type": "code",
   "execution_count": null,
   "id": "1fc47f6a",
   "metadata": {},
   "outputs": [],
   "source": [
    "load_dotenv(os.getcwd()+\"/.env\", override=True)"
   ]
  },
  {
   "cell_type": "code",
   "execution_count": null,
   "id": "748b0f5b",
   "metadata": {},
   "outputs": [],
   "source": [
    "def ask(message,\n",
    "         model=\"groq:llama-3.2-3b-preview\"):\n",
    "    # Initialize the AI client for accessing the language model\n",
    "    client = ai.Client()\n",
    "\n",
    "    # Construct the messages list for the chat\n",
    "    messages = [\n",
    "        # {\"role\": \"system\", \"content\": sys_message},\n",
    "        {\"role\": \"user\", \"content\": message}\n",
    "    ]\n",
    "\n",
    "    # Send the messages to the model and get the response\n",
    "    response = client.chat.completions.create(model=model, messages=messages)\n",
    "\n",
    "    # Return the content of the model's response\n",
    "    return response.choices[0].message.content"
   ]
  },
  {
   "cell_type": "code",
   "execution_count": null,
   "id": "f668dc4e",
   "metadata": {},
   "outputs": [],
   "source": [
    "print(ask('What is Python UDF of Db2 LUW?', model='watsonx:ibm/granite-3-2-8b-instruct'))"
   ]
  },
  {
   "cell_type": "code",
   "execution_count": null,
   "id": "ea182613",
   "metadata": {},
   "outputs": [],
   "source": [
    "print(ask('What is Python UDF of Db2 LUW?', model='openai:gpt-4o'))"
   ]
  },
  {
   "cell_type": "code",
   "execution_count": null,
   "id": "c1a4da97",
   "metadata": {},
   "outputs": [],
   "source": [
    "print(ask('What is Python UDF of Db2 LUW?', model='watsonx:meta-llama/llama-3-3-70b-instruct'))"
   ]
  }
 ],
 "metadata": {
  "kernelspec": {
   "display_name": ".venv",
   "language": "python",
   "name": "python3"
  },
  "language_info": {
   "codemirror_mode": {
    "name": "ipython",
    "version": 3
   },
   "file_extension": ".py",
   "mimetype": "text/x-python",
   "name": "python",
   "nbconvert_exporter": "python",
   "pygments_lexer": "ipython3",
   "version": "3.12.8"
  }
 },
 "nbformat": 4,
 "nbformat_minor": 5
}
