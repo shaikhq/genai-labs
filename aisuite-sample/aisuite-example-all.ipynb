{
 "cells": [
  {
   "cell_type": "code",
   "execution_count": 2,
   "id": "dcbddb5f",
   "metadata": {},
   "outputs": [],
   "source": [
    "from dotenv import load_dotenv\n",
    "import os\n",
    "import aisuite as ai"
   ]
  },
  {
   "cell_type": "code",
   "execution_count": 3,
   "id": "1fc47f6a",
   "metadata": {},
   "outputs": [
    {
     "data": {
      "text/plain": [
       "True"
      ]
     },
     "execution_count": 3,
     "metadata": {},
     "output_type": "execute_result"
    }
   ],
   "source": [
    "load_dotenv(os.getcwd()+\"/.env\", override=True)"
   ]
  },
  {
   "cell_type": "code",
   "execution_count": 4,
   "id": "748b0f5b",
   "metadata": {},
   "outputs": [],
   "source": [
    "def ask(message,\n",
    "         model=\"groq:llama-3.2-3b-preview\"):\n",
    "    # Initialize the AI client for accessing the language model\n",
    "    client = ai.Client()\n",
    "\n",
    "    # Construct the messages list for the chat\n",
    "    messages = [\n",
    "        # {\"role\": \"system\", \"content\": sys_message},\n",
    "        {\"role\": \"user\", \"content\": message}\n",
    "    ]\n",
    "\n",
    "    # Send the messages to the model and get the response\n",
    "    response = client.chat.completions.create(model=model, messages=messages)\n",
    "\n",
    "    # Return the content of the model's response\n",
    "    return response.choices[0].message.content"
   ]
  },
  {
   "cell_type": "code",
   "execution_count": 5,
   "id": "ea182613",
   "metadata": {},
   "outputs": [
    {
     "name": "stdout",
     "output_type": "stream",
     "text": [
      "In Db2 for Linux, Unix, and Windows (Db2 LUW), a User-Defined Function (UDF) is a database object that allows you to create custom functions using languages like SQL, C, or Python. A Python UDF in Db2 LUW is a UDF that is implemented using the Python programming language. This allows you to leverage Python’s extensive libraries and capabilities directly within your SQL queries.\n",
      "\n",
      "Here are some key points about Python UDFs in Db2 LUW:\n",
      "\n",
      "1. **Purpose**: Python UDFs are used to extend the built-in functionality of Db2 with custom logic that can be executed within SQL queries. They are useful for tasks that involve complex calculations, data transformations, or accessing external APIs or libraries that are available in Python.\n",
      "\n",
      "2. **Creating a Python UDF**: To create a Python UDF in Db2, you typically define the function in a script and then register it with Db2 using SQL. Db2 provides mechanisms to link the Python environment and execute the code when the UDF is called.\n",
      "\n",
      "3. **Execution**: Once created, a Python UDF can be executed just like any other Db2 function within a SQL statement. This lets you integrate complex processing directly within your data retrieval and manipulation workflows.\n",
      "\n",
      "4. **Advantages**: Utilizing Python UDFs allows you to harness the power of Python, including its data processing and machine learning capabilities, while still maintaining the efficiency and convenience of processing data within the database environment.\n",
      "\n",
      "5. **Considerations**: When using Python UDFs, it's important to consider performance implications, as the execution context switches from the SQL engine to a Python interpreter. Ensure that Python code is optimized and that any external dependencies are properly managed within the database environment.\n",
      "\n",
      "If you are implementing Python UDFs, make sure to refer to the specific version documentation for Db2 LUW you are using, as there might be differences or improvements over different releases.\n"
     ]
    }
   ],
   "source": [
    "print(ask('What is Python UDF of Db2 LUW?', model='openai:gpt-4o'))"
   ]
  },
  {
   "cell_type": "code",
   "execution_count": 6,
   "id": "c1a4da97",
   "metadata": {},
   "outputs": [
    {
     "name": "stdout",
     "output_type": "stream",
     "text": [
      "Python UDF (User-Defined Function) in Db2 LUW (Linux, Unix, Windows) is a feature that allows you to create custom functions using the Python programming language. These functions can be used to extend the functionality of Db2 and perform complex operations that are not possible with the built-in functions.\n",
      "\n",
      "Python UDFs in Db2 LUW enable you to leverage the power of Python to perform tasks such as data processing, machine learning, and data analysis, and integrate the results with your Db2 database. You can create scalar functions, table functions, and aggregate functions using Python.\n",
      "\n",
      "To use Python UDFs in Db2 LUW, you need to install the Db2 Python driver and create a Python environment on your system. You can then create Python functions and register them with Db2 using the `CREATE FUNCTION` statement.\n",
      "\n",
      "Python UDFs offer several benefits, including improved performance, increased flexibility, and the ability to leverage the vast ecosystem of Python libraries and frameworks. They are particularly useful for tasks such as data processing, data transformation, and data analysis, and can be used to create custom functions for tasks such as data cleansing, data validation, and data aggregation.\n"
     ]
    }
   ],
   "source": [
    "print(ask('What is Python UDF of Db2 LUW?', model='watsonx:meta-llama/llama-3-3-70b-instruct'))"
   ]
  }
 ],
 "metadata": {
  "kernelspec": {
   "display_name": ".venv",
   "language": "python",
   "name": "python3"
  },
  "language_info": {
   "codemirror_mode": {
    "name": "ipython",
    "version": 3
   },
   "file_extension": ".py",
   "mimetype": "text/x-python",
   "name": "python",
   "nbconvert_exporter": "python",
   "pygments_lexer": "ipython3",
   "version": "3.12.8"
  }
 },
 "nbformat": 4,
 "nbformat_minor": 5
}
