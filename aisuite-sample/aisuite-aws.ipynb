{
 "cells": [
  {
   "cell_type": "code",
   "execution_count": 1,
   "id": "dcbddb5f",
   "metadata": {},
   "outputs": [],
   "source": [
    "from dotenv import load_dotenv\n",
    "import os\n",
    "import aisuite as ai"
   ]
  },
  {
   "cell_type": "code",
   "execution_count": 2,
   "id": "1fc47f6a",
   "metadata": {},
   "outputs": [
    {
     "data": {
      "text/plain": [
       "True"
      ]
     },
     "execution_count": 2,
     "metadata": {},
     "output_type": "execute_result"
    }
   ],
   "source": [
    "load_dotenv(os.getcwd()+\"/.env\", override=True)"
   ]
  },
  {
   "cell_type": "code",
   "execution_count": 3,
   "id": "8d73f050",
   "metadata": {},
   "outputs": [],
   "source": [
    "def ask(message,\n",
    "         model=\"groq:llama-3.2-3b-preview\"):\n",
    "    # Initialize the AI client for accessing the language model\n",
    "    client = ai.Client()\n",
    "\n",
    "    # Construct the messages list for the chat\n",
    "    messages = [\n",
    "        # {\"role\": \"system\", \"content\": sys_message},\n",
    "        {\"role\": \"user\", \"content\": message}\n",
    "    ]\n",
    "\n",
    "    # Send the messages to the model and get the response\n",
    "    response = client.chat.completions.create(model=model, messages=messages)\n",
    "\n",
    "    # Return the content of the model's response\n",
    "    return response.choices[0].message.content"
   ]
  },
  {
   "cell_type": "code",
   "execution_count": 4,
   "id": "b8c68658",
   "metadata": {},
   "outputs": [
    {
     "name": "stdout",
     "output_type": "stream",
     "text": [
      "\n",
      "\n",
      "In Python, a user-defined function (UDF) is a custom function that can be created to perform a specific task or extend the functionality of a database management system (DBMS). A UDF in Python can be created to interact with a DB2 LUW database, allowing you to perform operations or manipulate data within the database using Python code. Here is an example:\n",
      "\n",
      "```Python\n",
      "from db2 import connect\n",
      "\n",
      "# Define the UDF function\n",
      "def my_udf(name):\n",
      "    try:\n",
      "        # Establish a connection to the DB2 LUW database\n",
      "        conn = connect('db2\n"
     ]
    }
   ],
   "source": [
    "print(ask('What is Python UDF of Db2 LUW?', model='aws:amazon.titan-text-express-v1'))"
   ]
  }
 ],
 "metadata": {
  "kernelspec": {
   "display_name": ".venv",
   "language": "python",
   "name": "python3"
  },
  "language_info": {
   "codemirror_mode": {
    "name": "ipython",
    "version": 3
   },
   "file_extension": ".py",
   "mimetype": "text/x-python",
   "name": "python",
   "nbconvert_exporter": "python",
   "pygments_lexer": "ipython3",
   "version": "3.12.8"
  }
 },
 "nbformat": 4,
 "nbformat_minor": 5
}
