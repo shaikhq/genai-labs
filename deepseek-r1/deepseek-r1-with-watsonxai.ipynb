{
 "cells": [
  {
   "cell_type": "markdown",
   "metadata": {},
   "source": [
    "# Deploy and Explore DeepSeek R1 Reasoning Model with Watsonx.ai"
   ]
  },
  {
   "cell_type": "markdown",
   "metadata": {},
   "source": [
    "### References - resources I used in this tutorial\n",
    "1. [Deploying foundation models on-demand with Python client library](https://dataplatform.cloud.ibm.com/docs/content/wsj/analyze-data/deploy-on-demand-python-client.html?context=wx&audience=wdp)\n",
    "2. [Deepseek Reasoning: Improving an R1 distilled model with RAG and watsonx.ai](https://www.ibm.com/think/tutorials/deepseek-reasoning-improvements-with-rag-watsonx-ai)\n",
    "3. [DeepSeek R1 Distilled Models now available on watsonx.ai](https://www.ibm.com/new/announcements/deepseek-r1-distilled-models-now-available-on-watsonx-ai)"
   ]
  },
  {
   "cell_type": "markdown",
   "metadata": {},
   "source": [
    "### Imports"
   ]
  },
  {
   "cell_type": "code",
   "execution_count": 1,
   "metadata": {},
   "outputs": [],
   "source": [
    "import os\n",
    "from dotenv import load_dotenv\n",
    "from ibm_watsonx_ai import APIClient, Credentials"
   ]
  },
  {
   "cell_type": "markdown",
   "metadata": {},
   "source": [
    "### Create watsonx.ai APIClient"
   ]
  },
  {
   "cell_type": "markdown",
   "metadata": {},
   "source": [
    "Load `watsonx.ai` API key and project id from `.env` file"
   ]
  },
  {
   "cell_type": "code",
   "execution_count": 4,
   "metadata": {},
   "outputs": [
    {
     "data": {
      "text/plain": [
       "True"
      ]
     },
     "execution_count": 4,
     "metadata": {},
     "output_type": "execute_result"
    }
   ],
   "source": [
    "load_dotenv(os.getcwd()+\"/.env\", override=True)"
   ]
  },
  {
   "cell_type": "markdown",
   "metadata": {},
   "source": [
    "Define `watsonx.ai` credentials and create an instance of `watsonx.ai` APIClient\n",
    "\n",
    "Generate an api key for watsonx.ai runtime following the instructions [here](https://dataplatform.cloud.ibm.com/docs/content/wsj/analyze-data/ml-authentication.html?context=cpdaas)."
   ]
  },
  {
   "cell_type": "code",
   "execution_count": 5,
   "metadata": {},
   "outputs": [],
   "source": [
    "credentials = Credentials(\n",
    "                url = \"https://us-south.ml.cloud.ibm.com\",\n",
    "                api_key = os.getenv(\"WATSONX_APIKEY\", \"\")\n",
    "                )\n",
    "\n",
    "client = APIClient(credentials)"
   ]
  },
  {
   "cell_type": "markdown",
   "metadata": {},
   "source": [
    "Set the watsonx.ai `project id`"
   ]
  },
  {
   "cell_type": "code",
   "execution_count": 6,
   "metadata": {},
   "outputs": [
    {
     "data": {
      "text/plain": [
       "'SUCCESS'"
      ]
     },
     "execution_count": 6,
     "metadata": {},
     "output_type": "execute_result"
    }
   ],
   "source": [
    "project_id = os.getenv(\"WATSONX_PROJECT\", \"\")\n",
    "client.set.default_project(project_id)"
   ]
  },
  {
   "cell_type": "markdown",
   "metadata": {},
   "source": [
    "### Deploying DeepSeek R1 Model"
   ]
  },
  {
   "cell_type": "markdown",
   "metadata": {},
   "source": [
    "Define metadata for the `DeepSeek R1` model asset"
   ]
  },
  {
   "cell_type": "code",
   "execution_count": 7,
   "metadata": {},
   "outputs": [],
   "source": [
    "metadata = {\n",
    "    client.repository.ModelMetaNames.NAME: \"deepseek\",\n",
    "    client.repository.ModelMetaNames.TYPE: client.repository.ModelAssetTypes.CURATED_FOUNDATION_MODEL_1_0,\n",
    "}"
   ]
  },
  {
   "cell_type": "markdown",
   "metadata": {},
   "source": [
    "Store the `DeepSeek R1` model in the repository"
   ]
  },
  {
   "cell_type": "code",
   "execution_count": 8,
   "metadata": {},
   "outputs": [],
   "source": [
    "stored_model_details = client.repository.store_model(model='deepseek-ai/deepseek-r1-distill-llama-8b-curated', meta_props=metadata)\n"
   ]
  },
  {
   "cell_type": "markdown",
   "metadata": {},
   "source": [
    "Retrieving the identifier for the `DeepSeek` model asset"
   ]
  },
  {
   "cell_type": "code",
   "execution_count": 9,
   "metadata": {},
   "outputs": [
    {
     "data": {
      "text/html": [
       "<div>\n",
       "<style scoped>\n",
       "    .dataframe tbody tr th:only-of-type {\n",
       "        vertical-align: middle;\n",
       "    }\n",
       "\n",
       "    .dataframe tbody tr th {\n",
       "        vertical-align: top;\n",
       "    }\n",
       "\n",
       "    .dataframe thead th {\n",
       "        text-align: right;\n",
       "    }\n",
       "</style>\n",
       "<table border=\"1\" class=\"dataframe\">\n",
       "  <thead>\n",
       "    <tr style=\"text-align: right;\">\n",
       "      <th></th>\n",
       "      <th>ID</th>\n",
       "      <th>NAME</th>\n",
       "      <th>CREATED</th>\n",
       "      <th>FRAMEWORK</th>\n",
       "      <th>TYPE</th>\n",
       "      <th>SPEC_STATE</th>\n",
       "      <th>SPEC_REPLACEMENT</th>\n",
       "    </tr>\n",
       "  </thead>\n",
       "  <tbody>\n",
       "    <tr>\n",
       "      <th>0</th>\n",
       "      <td>c5666cfa-d53f-4a7e-9c36-f5001b85e9a5</td>\n",
       "      <td>deepseek</td>\n",
       "      <td>2025-02-11T02:11:44.867Z</td>\n",
       "      <td>curated_foundation_model_1.0</td>\n",
       "      <td>model</td>\n",
       "      <td></td>\n",
       "      <td></td>\n",
       "    </tr>\n",
       "    <tr>\n",
       "      <th>1</th>\n",
       "      <td>85134eb3-7e41-47cc-bffd-400e80122688</td>\n",
       "      <td>deepseek</td>\n",
       "      <td>2025-02-09T14:58:31.331Z</td>\n",
       "      <td>curated_foundation_model_1.0</td>\n",
       "      <td>model</td>\n",
       "      <td></td>\n",
       "      <td></td>\n",
       "    </tr>\n",
       "    <tr>\n",
       "      <th>2</th>\n",
       "      <td>3e5b77cf-96dc-48b7-b939-aeaa424b5742</td>\n",
       "      <td>deepseek</td>\n",
       "      <td>2025-02-09T14:38:13.997Z</td>\n",
       "      <td>curated_foundation_model_1.0</td>\n",
       "      <td>model</td>\n",
       "      <td></td>\n",
       "      <td></td>\n",
       "    </tr>\n",
       "  </tbody>\n",
       "</table>\n",
       "</div>"
      ],
      "text/plain": [
       "                                     ID      NAME                   CREATED  \\\n",
       "0  c5666cfa-d53f-4a7e-9c36-f5001b85e9a5  deepseek  2025-02-11T02:11:44.867Z   \n",
       "1  85134eb3-7e41-47cc-bffd-400e80122688  deepseek  2025-02-09T14:58:31.331Z   \n",
       "2  3e5b77cf-96dc-48b7-b939-aeaa424b5742  deepseek  2025-02-09T14:38:13.997Z   \n",
       "\n",
       "                      FRAMEWORK   TYPE SPEC_STATE SPEC_REPLACEMENT  \n",
       "0  curated_foundation_model_1.0  model                              \n",
       "1  curated_foundation_model_1.0  model                              \n",
       "2  curated_foundation_model_1.0  model                              "
      ]
     },
     "execution_count": 9,
     "metadata": {},
     "output_type": "execute_result"
    }
   ],
   "source": [
    "client.repository.list(framework_filter='curated_foundation_model_1.0')"
   ]
  },
  {
   "cell_type": "markdown",
   "metadata": {},
   "source": [
    "Get the asset id for the `DeepSeek` model"
   ]
  },
  {
   "cell_type": "code",
   "execution_count": 10,
   "metadata": {},
   "outputs": [
    {
     "name": "stdout",
     "output_type": "stream",
     "text": [
      "c5666cfa-d53f-4a7e-9c36-f5001b85e9a5\n"
     ]
    }
   ],
   "source": [
    "stored_model_asset_id = client.repository.get_model_id(stored_model_details)\n",
    "print(stored_model_asset_id)"
   ]
  },
  {
   "cell_type": "markdown",
   "metadata": {},
   "source": [
    "Create a new online deployment of the `DeepSeek` model. This deployed model will be running as a dedicated service and be charged by hour. The details of the hour rate of running a model are available [here](https://dataplatform.cloud.ibm.com/docs/content/wsj/getting-started/wxai-runtime-plans-genai.html?context=wx&audience=wdp#dod).\n",
    "- as part of creating a model deployment, you need define a metadata dictionary, `meta_props`, with details of the deployment. "
   ]
  },
  {
   "cell_type": "code",
   "execution_count": 11,
   "metadata": {},
   "outputs": [],
   "source": [
    "meta_props = {\n",
    "    client.deployments.ConfigurationMetaNames.NAME: \"deepseek_deployment\",\n",
    "    client.deployments.ConfigurationMetaNames.DESCRIPTION: \"Deploying DeepSeek R1 model\",\n",
    "    client.deployments.ConfigurationMetaNames.ONLINE: {},\n",
    "    client.deployments.ConfigurationMetaNames.SERVING_NAME: \"test_deepseek_r1\"\n",
    "}"
   ]
  },
  {
   "cell_type": "code",
   "execution_count": 13,
   "metadata": {},
   "outputs": [
    {
     "name": "stderr",
     "output_type": "stream",
     "text": [
      "Deployment creation failed. Error: 400. {\"trace\":\"56e6fe0105b8177710b5c1ff705b8038\",\"errors\":[{\"code\":\"deployment_not_allowed_for_plan\",\"message\":\"Custom foundational model deployment is available to users registered with one of the 'Standard' plans. Upgrade to a supported plan and retry the operation.\"}]}\n"
     ]
    },
    {
     "name": "stdout",
     "output_type": "stream",
     "text": [
      "{\"trace\":\"56e6fe0105b8177710b5c1ff705b8038\",\"errors\":[{\"code\":\"deployment_not_allowed_for_plan\",\"message\":\"Custom foundational model deployment is available to users registered with one of the 'Standard' plans. Upgrade to a supported plan and retry the operation.\"}]}\n",
      "\n",
      "\n",
      "--------------------------\n",
      "Deployment creation failed\n",
      "--------------------------\n",
      "\n",
      "\n"
     ]
    },
    {
     "ename": "WMLClientError",
     "evalue": "Deployment creation failed. Error: 400. {\"trace\":\"56e6fe0105b8177710b5c1ff705b8038\",\"errors\":[{\"code\":\"deployment_not_allowed_for_plan\",\"message\":\"Custom foundational model deployment is available to users registered with one of the 'Standard' plans. Upgrade to a supported plan and retry the operation.\"}]}",
     "output_type": "error",
     "traceback": [
      "\u001b[0;31m---------------------------------------------------------------------------\u001b[0m",
      "\u001b[0;31mWMLClientError\u001b[0m                            Traceback (most recent call last)",
      "Cell \u001b[0;32mIn[13], line 1\u001b[0m\n\u001b[0;32m----> 1\u001b[0m deployment_details \u001b[38;5;241m=\u001b[39m \u001b[43mclient\u001b[49m\u001b[38;5;241;43m.\u001b[39;49m\u001b[43mdeployments\u001b[49m\u001b[38;5;241;43m.\u001b[39;49m\u001b[43mcreate\u001b[49m\u001b[43m(\u001b[49m\u001b[43mstored_model_asset_id\u001b[49m\u001b[43m,\u001b[49m\u001b[43m \u001b[49m\u001b[43mmeta_props\u001b[49m\u001b[43m)\u001b[49m\n\u001b[1;32m      2\u001b[0m deployment_id \u001b[38;5;241m=\u001b[39m client\u001b[38;5;241m.\u001b[39mdeployments\u001b[38;5;241m.\u001b[39mget_uid(deployment_details)\n\u001b[1;32m      3\u001b[0m \u001b[38;5;28mprint\u001b[39m(\u001b[38;5;124m\"\u001b[39m\u001b[38;5;124mThe deployment id:\u001b[39m\u001b[38;5;124m\"\u001b[39m, deployment_id)\n",
      "File \u001b[0;32m~/genai-lab/.venv/lib/python3.12/site-packages/ibm_watsonx_ai/deployments.py:343\u001b[0m, in \u001b[0;36mDeployments.create\u001b[0;34m(self, artifact_id, meta_props, rev_id, **kwargs)\u001b[0m\n\u001b[1;32m    341\u001b[0m \u001b[38;5;28mprint\u001b[39m(reason)\n\u001b[1;32m    342\u001b[0m print_text_header_h2(error_msg)\n\u001b[0;32m--> 343\u001b[0m \u001b[38;5;28;01mraise\u001b[39;00m WMLClientError(\n\u001b[1;32m    344\u001b[0m     error_msg \u001b[38;5;241m+\u001b[39m \u001b[38;5;124m\"\u001b[39m\u001b[38;5;124m. Error: \u001b[39m\u001b[38;5;124m\"\u001b[39m \u001b[38;5;241m+\u001b[39m \u001b[38;5;28mstr\u001b[39m(response\u001b[38;5;241m.\u001b[39mstatus_code) \u001b[38;5;241m+\u001b[39m \u001b[38;5;124m\"\u001b[39m\u001b[38;5;124m. \u001b[39m\u001b[38;5;124m\"\u001b[39m \u001b[38;5;241m+\u001b[39m reason\n\u001b[1;32m    345\u001b[0m )\n",
      "\u001b[0;31mWMLClientError\u001b[0m: Deployment creation failed. Error: 400. {\"trace\":\"56e6fe0105b8177710b5c1ff705b8038\",\"errors\":[{\"code\":\"deployment_not_allowed_for_plan\",\"message\":\"Custom foundational model deployment is available to users registered with one of the 'Standard' plans. Upgrade to a supported plan and retry the operation.\"}]}"
     ]
    }
   ],
   "source": [
    "deployment_details = client.deployments.create(stored_model_asset_id, meta_props)\n",
    "deployment_id = client.deployments.get_uid(deployment_details)\n",
    "print(\"The deployment id:\", deployment_id)\n"
   ]
  }
 ],
 "metadata": {
  "kernelspec": {
   "display_name": ".venv",
   "language": "python",
   "name": "python3"
  },
  "language_info": {
   "codemirror_mode": {
    "name": "ipython",
    "version": 3
   },
   "file_extension": ".py",
   "mimetype": "text/x-python",
   "name": "python",
   "nbconvert_exporter": "python",
   "pygments_lexer": "ipython3",
   "version": "3.12.3"
  }
 },
 "nbformat": 4,
 "nbformat_minor": 2
}
